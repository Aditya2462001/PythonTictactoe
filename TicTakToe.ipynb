{
  "nbformat": 4,
  "nbformat_minor": 0,
  "metadata": {
    "colab": {
      "name": "TicTakToe.ipynb",
      "provenance": []
    },
    "kernelspec": {
      "name": "python3",
      "display_name": "Python 3"
    }
  },
  "cells": [
    {
      "cell_type": "markdown",
      "metadata": {
        "id": "q819ymjDXHGY"
      },
      "source": [
        "This is a small project to get better at python. Try'ng to make a CLI Tic-Tac-Toe."
      ]
    },
    {
      "cell_type": "code",
      "metadata": {
        "id": "ZOwPf1GcX9jo"
      },
      "source": [
        "#Global variables \n",
        "board =[\"-\",\"-\",\"-\",\n",
        "        \"-\",\"-\",\"-\",\n",
        "        \"-\",\"-\",\"-\",]\n",
        "        \n",
        "is_game_on = True\n",
        "winner = None\n",
        "current_player = \"X\"\n"
      ],
      "execution_count": 97,
      "outputs": []
    },
    {
      "cell_type": "markdown",
      "metadata": {
        "id": "M2N6xORAYzV1"
      },
      "source": [
        "Game functions\n"
      ]
    },
    {
      "cell_type": "code",
      "metadata": {
        "id": "dWXHl0-wYJW-"
      },
      "source": [
        "# function to display game board\n",
        "def display_board():\n",
        "  print(\"\\n\")\n",
        "  print(board[0] + \" | \" + board[1] + \" | \" + board[2] + \"     1 | 2 | 3\")\n",
        "  print(board[3] + \" | \" + board[4] + \" | \" + board[5] + \"     4 | 5 | 6\")\n",
        "  print(board[6] + \" | \" + board[7] + \" | \" + board[8] + \"     7 | 8 | 9\")\n",
        "  print(\"\\n\")\n",
        "\n",
        "#display_board()\n",
        "\n",
        "#Funtion to gat the position from player and to validate the position \n",
        "def handle_turn(player):\n",
        "  print(player + \"'s turn.\")\n",
        "  position = input(\"Choose a position from 1-9:\\n\")\n",
        "\n",
        "  valid = False\n",
        "  while not valid:\n",
        "    while position not in [\"1\", \"2\", \"3\", \"4\", \"5\", \"6\", \"7\", \"8\", \"9\"]:\n",
        "      position = input(\"Choose a position from 1-9: \\n\")\n",
        "    \n",
        "    position = int(position) - 1\n",
        "\n",
        "    if board[position] == \"-\":\n",
        "      valid = True\n",
        "    else:\n",
        "      print(\"You can't go there. Go again.\")\n",
        "\n",
        "  # Put the game piece on the board\n",
        "  board[position] = player\n",
        "\n",
        "  # Show the game board\n",
        "  display_board()\n",
        "\n",
        "#check the game status \n",
        "def is_game_over():\n",
        "  check_win()\n",
        "  check_tie()\n",
        "  return\n",
        "#to check if someone won \n",
        "def check_win():\n",
        "    # Set global variables\n",
        "  global winner\n",
        "    # Check if there was a winner anywhere\n",
        "  row_winner = check_rows()\n",
        "  column_winner = check_col()\n",
        "  diagonal_winner = check_dia()\n",
        "    # Get the winner\n",
        "  if row_winner:\n",
        "    winner = row_winner\n",
        "  elif column_winner:\n",
        "    winner = column_winner\n",
        "  elif diagonal_winner:\n",
        "    winner = diagonal_winner\n",
        "  else:\n",
        "    winner = None\n",
        "\n",
        "#check if the game is a tie\n",
        "def check_tie():\n",
        "  global is_game_on \n",
        "  # If board is full\n",
        "  if \"-\" not in board:\n",
        "    is_game_on  = False\n",
        "    return True\n",
        "  # Else there is no tie\n",
        "  else:\n",
        "    return False\n",
        "\n",
        "#to check the rows ,columns and diagonals \n",
        "def check_rows():\n",
        "  global is_game_on\n",
        "  \n",
        "  row1=board[0]==board[1]==board[2] != \"-\"\n",
        "  row2=board[3]==board[4]==board[5] != \"-\"\n",
        "  row3=board[6]==board[7]==board[8] != \"-\"\n",
        "\n",
        "  if row1 or row2 or row3 :\n",
        "    is_game_on = False\n",
        "  \n",
        "  if row1:\n",
        "    return board[0] \n",
        "  elif row2:\n",
        "    return board[3] \n",
        "  elif row3:\n",
        "    return board[6] \n",
        "  else :\n",
        "    return None  \n",
        "  \n",
        "  return\n",
        "def check_col():\n",
        "  global is_game_on\n",
        "  \n",
        "  col1=board[0]==board[3]==board[6] != \"-\"\n",
        "  col2=board[1]==board[4]==board[7] != \"-\"\n",
        "  col3=board[2]==board[5]==board[8] != \"-\"\n",
        "\n",
        "  if col1 or col2 or col3 :\n",
        "    is_game_on = False\n",
        "  \n",
        "  if col1:\n",
        "    return board[0] \n",
        "  elif col2:\n",
        "    return board[1] \n",
        "  elif col3:\n",
        "    return board[2] \n",
        "  else :\n",
        "    return None\n",
        "  return\n",
        "\n",
        "def check_dia():\n",
        "  dia1 = board[0]==board[4]==board[8] != \"-\"\n",
        "  dia2 = board[2]==board[4]==board[6] != \"-\"\n",
        "  \n",
        "  if dia1 or dia2 :\n",
        "    is_game_on = False\n",
        "  \n",
        "  if dia1:\n",
        "    return board[0] \n",
        "  elif dia2:\n",
        "    return board[2] \n",
        "  else :\n",
        "    return None\n",
        "  return\n",
        "  \n",
        "\n",
        "#To exchange turns\n",
        "def flip_player():\n",
        "  global current_player\n",
        "  \n",
        "  if current_player==\"X\":\n",
        "    current_player=\"O\"\n",
        "  elif current_player==\"O\":\n",
        "    current_player=\"X\"\n",
        "  return\n"
      ],
      "execution_count": 98,
      "outputs": []
    },
    {
      "cell_type": "code",
      "metadata": {
        "id": "ITR_xRqCZ9BJ"
      },
      "source": [
        "#the game logic \n",
        "def play_game():\n",
        "  global winner\n",
        "\n",
        "  display_board()\n",
        "  while is_game_on:\n",
        "    handle_turn(current_player)\n",
        "    is_game_over()\n",
        "    flip_player()\n",
        "\n",
        "  if winner ==\"X\" or winner==\"O\":\n",
        "    print(winner+\" won\")\n",
        "  elif winner == None:\n",
        "    print(\"Tie\") \n",
        "\n"
      ],
      "execution_count": 99,
      "outputs": []
    },
    {
      "cell_type": "markdown",
      "metadata": {
        "id": "5SqjmmPm34PP"
      },
      "source": [
        "Game execution"
      ]
    },
    {
      "cell_type": "code",
      "metadata": {
        "id": "Cy0mPWZ_aIjz",
        "outputId": "efc81655-748c-4b2d-dc19-237ca455818b",
        "colab": {
          "base_uri": "https://localhost:8080/",
          "height": 1000
        }
      },
      "source": [
        "play_game()\n"
      ],
      "execution_count": 100,
      "outputs": [
        {
          "output_type": "stream",
          "text": [
            "\n",
            "\n",
            "- | - | -     1 | 2 | 3\n",
            "- | - | -     4 | 5 | 6\n",
            "- | - | -     7 | 8 | 9\n",
            "\n",
            "\n",
            "X's turn.\n",
            "Choose a position from 1-9:\n",
            "1\n",
            "\n",
            "\n",
            "X | - | -     1 | 2 | 3\n",
            "- | - | -     4 | 5 | 6\n",
            "- | - | -     7 | 8 | 9\n",
            "\n",
            "\n",
            "O's turn.\n",
            "Choose a position from 1-9:\n",
            "2\n",
            "\n",
            "\n",
            "X | O | -     1 | 2 | 3\n",
            "- | - | -     4 | 5 | 6\n",
            "- | - | -     7 | 8 | 9\n",
            "\n",
            "\n",
            "X's turn.\n",
            "Choose a position from 1-9:\n",
            "3\n",
            "\n",
            "\n",
            "X | O | X     1 | 2 | 3\n",
            "- | - | -     4 | 5 | 6\n",
            "- | - | -     7 | 8 | 9\n",
            "\n",
            "\n",
            "O's turn.\n",
            "Choose a position from 1-9:\n",
            "5\n",
            "\n",
            "\n",
            "X | O | X     1 | 2 | 3\n",
            "- | O | -     4 | 5 | 6\n",
            "- | - | -     7 | 8 | 9\n",
            "\n",
            "\n",
            "X's turn.\n",
            "Choose a position from 1-9:\n",
            "6\n",
            "\n",
            "\n",
            "X | O | X     1 | 2 | 3\n",
            "- | O | X     4 | 5 | 6\n",
            "- | - | -     7 | 8 | 9\n",
            "\n",
            "\n",
            "O's turn.\n",
            "Choose a position from 1-9:\n",
            "8\n",
            "\n",
            "\n",
            "X | O | X     1 | 2 | 3\n",
            "- | O | X     4 | 5 | 6\n",
            "- | O | -     7 | 8 | 9\n",
            "\n",
            "\n",
            "O won\n"
          ],
          "name": "stdout"
        }
      ]
    },
    {
      "cell_type": "code",
      "metadata": {
        "id": "OqWXHpGbyE21"
      },
      "source": [
        ""
      ],
      "execution_count": 100,
      "outputs": []
    }
  ]
}